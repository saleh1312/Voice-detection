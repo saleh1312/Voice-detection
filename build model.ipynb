{
 "cells": [
  {
   "cell_type": "code",
   "execution_count": 1,
   "metadata": {
    "id": "MBg0usVvzzkm"
   },
   "outputs": [],
   "source": [
    "import glob\n",
    "import librosa\n",
    "import numpy as np\n",
    "import seaborn as sn\n",
    "from sklearn.utils import shuffle\n",
    "from sklearn.metrics import confusion_matrix\n",
    "from sklearn.model_selection import train_test_split\n",
    "import tensorflow as tf\n",
    "import librosa.display\n",
    "import matplotlib.pyplot as plt"
   ]
  },
  {
   "cell_type": "code",
   "execution_count": 2,
   "metadata": {
    "colab": {
     "base_uri": "https://localhost:8080/",
     "height": 287
    },
    "executionInfo": {
     "elapsed": 1064,
     "status": "ok",
     "timestamp": 1642375624394,
     "user": {
      "displayName": "Prof Soft",
      "photoUrl": "https://lh3.googleusercontent.com/a-/AOh14GiaDqV9emD_XHcCKCtBVYe0PPmysd-B7JfNYPmZ=s64",
      "userId": "08982446338325414900"
     },
     "user_tz": -120
    },
    "id": "38_QVF39M6KL",
    "outputId": "f91a1d89-15b9-4ec2-9437-df11cb752b3e"
   },
   "outputs": [
    {
     "name": "stdout",
     "output_type": "stream",
     "text": [
      "audio duration : 10.0\n"
     ]
    },
    {
     "data": {
      "text/plain": [
       "<matplotlib.collections.QuadMesh at 0x163dce48>"
      ]
     },
     "execution_count": 2,
     "metadata": {},
     "output_type": "execute_result"
    },
    {
     "data": {
      "image/png": "[encoded data removed]",
      "text/plain": [
       "<Figure size 432x288 with 1 Axes>"
      ]
     },
     "metadata": {},
     "output_type": "display_data"
    }
   ],
   "source": [
    "wave,sr=librosa.load('../audio/bahgat/00.wav',sr=22050)\n",
    "print('audio duration :',librosa.get_duration(wave, sr=sr))\n",
    "spec=librosa.feature.mfcc(y=wave, sr=sr, n_fft=22050, hop_length=11025)\n",
    "librosa.display.specshow(spec)"
   ]
  },
  {
   "cell_type": "code",
   "execution_count": 3,
   "metadata": {
    "colab": {
     "base_uri": "https://localhost:8080/",
     "height": 297
    },
    "executionInfo": {
     "elapsed": 1036,
     "status": "ok",
     "timestamp": 1642375628166,
     "user": {
      "displayName": "Prof Soft",
      "photoUrl": "https://lh3.googleusercontent.com/a-/AOh14GiaDqV9emD_XHcCKCtBVYe0PPmysd-B7JfNYPmZ=s64",
      "userId": "08982446338325414900"
     },
     "user_tz": -120
    },
    "id": "L5_ODhnlNsby",
    "outputId": "2ba4e517-568e-4767-fb22-58a5d7454323"
   },
   "outputs": [
    {
     "data": {
      "text/plain": [
       "<matplotlib.collections.PolyCollection at 0x166f5a88>"
      ]
     },
     "execution_count": 3,
     "metadata": {},
     "output_type": "execute_result"
    },
    {
     "data": {
      "image/png": "[encoded data removed]",
      "text/plain": [
       "<Figure size 432x288 with 1 Axes>"
      ]
     },
     "metadata": {
      "needs_background": "light"
     },
     "output_type": "display_data"
    }
   ],
   "source": [
    "librosa.display.waveplot(wave, sr=sr)"
   ]
  },
  {
   "cell_type": "code",
   "execution_count": 6,
   "metadata": {
    "id": "DV3QjfzL1N-D"
   },
   "outputs": [],
   "source": [
    "def get_data(path,label):\n",
    "    x=[]\n",
    "    y=[]\n",
    "    for audiopath in glob.glob(path+'*'):\n",
    "        try:\n",
    "            wave,sr=librosa.load(audiopath,sr=22050)\n",
    "            if int(librosa.get_duration(wave, sr=sr)) !=10:\n",
    "                continue\n",
    "            spec=librosa.feature.mfcc(y=wave, sr=sr, n_fft=22050, hop_length=11025).T\n",
    "            x.append(spec)\n",
    "            y.append(label)\n",
    "        except:\n",
    "            pass\n",
    "    return np.array(x),np.array(y)"
   ]
  },
  {
   "cell_type": "code",
   "execution_count": 10,
   "metadata": {
    "id": "hRZlA80y17wf"
   },
   "outputs": [],
   "source": [
    "bx,by=get_data(path='../audio/bahgat/',label=1)\n",
    "nbx,nby=get_data(path='../audio/no bahgat/',label=0)"
   ]
  },
  {
   "cell_type": "code",
   "execution_count": 11,
   "metadata": {
    "id": "p93C1dYr-B_p"
   },
   "outputs": [],
   "source": [
    "x=np.concatenate([bx,nbx]).astype(np.float32)\n",
    "y=np.concatenate([by,nby]).astype(np.float32)"
   ]
  },
  {
   "cell_type": "code",
   "execution_count": 12,
   "metadata": {
    "id": "SMI-rdPd-Soy"
   },
   "outputs": [],
   "source": [
    "x,y = shuffle(x, y)\n",
    "x_train, x_test, y_train, y_test=train_test_split(x, y, test_size=0.1)"
   ]
  },
  {
   "cell_type": "code",
   "execution_count": 17,
   "metadata": {},
   "outputs": [],
   "source": [
    "np.save('saved/x_train.npy',x_train)\n",
    "np.save('saved/y_train.npy',y_train)\n",
    "np.save('saved/x_test.npy',x_test)\n",
    "np.save('saved/y_test.npy',y_test)"
   ]
  },
  {
   "cell_type": "code",
   "execution_count": 2,
   "metadata": {},
   "outputs": [],
   "source": [
    "x_train=np.load('saved/x_train.npy')\n",
    "y_train=np.load('saved/y_train.npy')\n",
    "x_test=np.load('saved/x_test.npy')\n",
    "y_test=np.load('saved/y_test.npy')"
   ]
  },
  {
   "cell_type": "code",
   "execution_count": 11,
   "metadata": {
    "colab": {
     "base_uri": "https://localhost:8080/"
    },
    "executionInfo": {
     "elapsed": 651,
     "status": "ok",
     "timestamp": 1642375045092,
     "user": {
      "displayName": "Prof Soft",
      "photoUrl": "https://lh3.googleusercontent.com/a-/AOh14GiaDqV9emD_XHcCKCtBVYe0PPmysd-B7JfNYPmZ=s64",
      "userId": "08982446338325414900"
     },
     "user_tz": -120
    },
    "id": "fObrm2MGLdAI",
    "outputId": "bf08db14-5651-4dda-a2ce-07ce6e8b09e7"
   },
   "outputs": [
    {
     "name": "stdout",
     "output_type": "stream",
     "text": [
      "(336, 21, 20)\n",
      "(336,)\n",
      "(38, 21, 20)\n",
      "(336,)\n"
     ]
    }
   ],
   "source": [
    "print(x_train.shape)\n",
    "print(y_train.shape)\n",
    "print(x_test.shape)\n",
    "print(y_train.shape)"
   ]
  },
  {
   "cell_type": "code",
   "execution_count": 15,
   "metadata": {
    "colab": {
     "base_uri": "https://localhost:8080/"
    },
    "executionInfo": {
     "elapsed": 485,
     "status": "ok",
     "timestamp": 1642374590253,
     "user": {
      "displayName": "Prof Soft",
      "photoUrl": "https://lh3.googleusercontent.com/a-/AOh14GiaDqV9emD_XHcCKCtBVYe0PPmysd-B7JfNYPmZ=s64",
      "userId": "08982446338325414900"
     },
     "user_tz": -120
    },
    "id": "Z7gcoWo69w8w",
    "outputId": "473b7b08-a758-4509-8b23-d6569d436d6c"
   },
   "outputs": [
    {
     "name": "stdout",
     "output_type": "stream",
     "text": [
      "Model: \"model_3\"\n",
      "_________________________________________________________________\n",
      "Layer (type)                 Output Shape              Param #   \n",
      "=================================================================\n",
      "input_4 (InputLayer)         [(None, 21, 20)]          0         \n",
      "_________________________________________________________________\n",
      "lstm_3 (LSTM)                (None, 128)               76288     \n",
      "_________________________________________________________________\n",
      "dense_6 (Dense)              (None, 128)               16512     \n",
      "_________________________________________________________________\n",
      "dense_7 (Dense)              (None, 1)                 129       \n",
      "=================================================================\n",
      "Total params: 92,929\n",
      "Trainable params: 92,929\n",
      "Non-trainable params: 0\n",
      "_________________________________________________________________\n"
     ]
    }
   ],
   "source": [
    "inputt = tf.keras.layers.Input((21,20))\n",
    "l1=tf.keras.layers.LSTM(128)(inputt)\n",
    "d=tf.keras.layers.Dense(128)(l1)\n",
    "d=tf.keras.layers.Dense(1,activation='sigmoid')(d)\n",
    "model=tf.keras.Model(inputt,d)\n",
    "model.summary()"
   ]
  },
  {
   "cell_type": "code",
   "execution_count": 16,
   "metadata": {
    "id": "SY1wBBNe__g1"
   },
   "outputs": [],
   "source": [
    "opt = tf.keras.optimizers.Adam(learning_rate=0.001)\n",
    "model.compile(loss='binary_crossentropy', optimizer=opt)"
   ]
  },
  {
   "cell_type": "code",
   "execution_count": 17,
   "metadata": {
    "colab": {
     "base_uri": "https://localhost:8080/"
    },
    "executionInfo": {
     "elapsed": 3263,
     "status": "ok",
     "timestamp": 1642374625607,
     "user": {
      "displayName": "Prof Soft",
      "photoUrl": "https://lh3.googleusercontent.com/a-/AOh14GiaDqV9emD_XHcCKCtBVYe0PPmysd-B7JfNYPmZ=s64",
      "userId": "08982446338325414900"
     },
     "user_tz": -120
    },
    "id": "TwVih0F6_XBh",
    "outputId": "655d22a4-d5a1-44ca-f859-6f65b132d961"
   },
   "outputs": [
    {
     "name": "stdout",
     "output_type": "stream",
     "text": [
      "Train on 336 samples, validate on 38 samples\n",
      "Epoch 1/100\n",
      "336/336 [==============================] - 5s 16ms/sample - loss: 0.7622 - val_loss: 0.6484\n",
      "Epoch 2/100\n",
      "336/336 [==============================] - 1s 3ms/sample - loss: 0.4907 - val_loss: 0.5608\n",
      "Epoch 3/100\n",
      "336/336 [==============================] - 2s 6ms/sample - loss: 0.3142 - val_loss: 0.4028\n",
      "Epoch 4/100\n",
      "336/336 [==============================] - 2s 7ms/sample - loss: 0.1875 - val_loss: 0.3132\n",
      "Epoch 5/100\n",
      "336/336 [==============================] - 3s 8ms/sample - loss: 0.1057 - val_loss: 0.2617\n",
      "Epoch 6/100\n",
      "336/336 [==============================] - 3s 8ms/sample - loss: 0.0634 - val_loss: 0.2294\n",
      "Epoch 7/100\n",
      "336/336 [==============================] - 3s 8ms/sample - loss: 0.0358 - val_loss: 0.1804\n",
      "Epoch 8/100\n",
      "336/336 [==============================] - 2s 7ms/sample - loss: 0.0214 - val_loss: 0.1654\n",
      "Epoch 9/100\n",
      "336/336 [==============================] - 3s 7ms/sample - loss: 0.0153 - val_loss: 0.1583\n",
      "Epoch 10/100\n",
      "336/336 [==============================] - 3s 7ms/sample - loss: 0.0106 - val_loss: 0.1362\n",
      "Epoch 11/100\n",
      "336/336 [==============================] - 3s 8ms/sample - loss: 0.0072 - val_loss: 0.1376\n",
      "Epoch 12/100\n",
      "336/336 [==============================] - 3s 8ms/sample - loss: 0.0050 - val_loss: 0.1309\n",
      "Epoch 13/100\n",
      "336/336 [==============================] - 3s 7ms/sample - loss: 0.0039 - val_loss: 0.1275\n",
      "Epoch 14/100\n",
      "336/336 [==============================] - 3s 8ms/sample - loss: 0.0031 - val_loss: 0.1300\n",
      "Epoch 15/100\n",
      "336/336 [==============================] - 3s 8ms/sample - loss: 0.0025 - val_loss: 0.1286\n"
     ]
    },
    {
     "data": {
      "text/plain": [
       "<tensorflow.python.keras.callbacks.History at 0x20b0d348>"
      ]
     },
     "execution_count": 17,
     "metadata": {},
     "output_type": "execute_result"
    }
   ],
   "source": [
    "model.fit(x_train,y_train,batch_size=32,epochs=100,validation_data=(x_test,y_test),\n",
    "          callbacks=[tf.keras.callbacks.EarlyStopping(patience=2)])"
   ]
  },
  {
   "cell_type": "code",
   "execution_count": 18,
   "metadata": {
    "colab": {
     "base_uri": "https://localhost:8080/",
     "height": 445
    },
    "executionInfo": {
     "elapsed": 1107,
     "status": "ok",
     "timestamp": 1642374706791,
     "user": {
      "displayName": "Prof Soft",
      "photoUrl": "https://lh3.googleusercontent.com/a-/AOh14GiaDqV9emD_XHcCKCtBVYe0PPmysd-B7JfNYPmZ=s64",
      "userId": "08982446338325414900"
     },
     "user_tz": -120
    },
    "id": "e-zGBYSkAKbV",
    "outputId": "3d807997-7949-4269-c91a-8d4b05d3e778"
   },
   "outputs": [
    {
     "data": {
      "text/plain": [
       "<AxesSubplot:>"
      ]
     },
     "execution_count": 18,
     "metadata": {},
     "output_type": "execute_result"
    },
    {
     "data": {
      "image/png": "[encoded data removed]",
      "text/plain": [
       "<Figure size 720x504 with 2 Axes>"
      ]
     },
     "metadata": {
      "needs_background": "light"
     },
     "output_type": "display_data"
    }
   ],
   "source": [
    "plt.figure(figsize = (10,7))\n",
    "sn.heatmap(confusion_matrix( y_test, np.round(model.predict(x_test)[:,0]) ), annot=True)"
   ]
  },
  {
   "cell_type": "code",
   "execution_count": 19,
   "metadata": {
    "id": "lkOF5nkQBR8L"
   },
   "outputs": [],
   "source": [
    "model.save('saved/my_model.h5')"
   ]
  },
  {
   "cell_type": "code",
   "execution_count": 3,
   "metadata": {},
   "outputs": [],
   "source": [
    "model=tf.keras.models.load_model('saved/my_model.h5')"
   ]
  },
  {
   "cell_type": "code",
   "execution_count": 27,
   "metadata": {},
   "outputs": [
    {
     "name": "stdout",
     "output_type": "stream",
     "text": [
      "0  -  10  :  0.27660942\n",
      "10  -  20  :  0.49709892\n",
      "20  -  30  :  0.9996475\n",
      "30  -  40  :  0.37903127\n",
      "40  -  50  :  0.9983847\n"
     ]
    }
   ],
   "source": [
    "#segment the audio to 10 seconds clibs and predict it ()\n",
    "test_wave,sr=librosa.load('test/test.mp3',sr=22050)\n",
    "for i in range(0,int((librosa.get_duration(test_wave, sr=sr)//10)*10),10):\n",
    "    test_sub_wave=test_wave[i*sr:(i+10)*sr]\n",
    "    test_spec=librosa.feature.mfcc(y=test_sub_wave, sr=sr, n_fft=22050, hop_length=11025).T.reshape(1,21,20)\n",
    "    pred=model.predict(test_spec)\n",
    "    print(i,' - ',i+10,' : ',pred[0,0])"
   ]
  },
  {
   "cell_type": "code",
   "execution_count": null,
   "metadata": {},
   "outputs": [],
   "source": []
  }
 ],
 "metadata": {
  "colab": {
   "authorship_tag": "ABX9TyOxD8i94/LKU8JhcE8bPNgK",
   "collapsed_sections": [],
   "mount_file_id": "1YD7MjwcnZOvtExAFZywQOB_hBK-Dn87O",
   "name": "Untitled110.ipynb",
   "provenance": []
  },
  "kernelspec": {
   "display_name": "Python 3 (ipykernel)",
   "language": "python",
   "name": "python3"
  },
  "language_info": {
   "codemirror_mode": {
    "name": "ipython",
    "version": 3
   },
   "file_extension": ".py",
   "mimetype": "text/x-python",
   "name": "python",
   "nbconvert_exporter": "python",
   "pygments_lexer": "ipython3",
   "version": "3.7.11"
  }
 },
 "nbformat": 4,
 "nbformat_minor": 1
}
